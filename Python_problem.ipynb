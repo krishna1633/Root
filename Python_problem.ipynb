{
 "cells": [
  {
   "cell_type": "markdown",
   "metadata": {},
   "source": [
    "Used the library \"tweepy\".In order to access Twitter Streaming API, we need to get 4 pieces of information from Twitter: API key, API secret, Access token and Access token secret.To get these create Twitter Developer Account.Select the userID."
   ]
  },
  {
   "cell_type": "code",
   "execution_count": null,
   "metadata": {},
   "outputs": [],
   "source": [
    "import tweepy\n",
    "access_token = \"XXXXXXXXXXXXXXXXXXXXXXX\"\n",
    "access_token_secret = \"XXXXXXXXXXXXXXXXXXXXXXX\"\n",
    "consumer_key = \"XXXXXXXXXXXXXXXXXXXXXXX\"\n",
    "consumer_secret = \"XXXXXXXXXXXXXXXXXXXXXXX\"\n",
    "userID = \"@midasIIITD\"\""
   ]
  },
  {
   "cell_type": "markdown",
   "metadata": {},
   "source": [
    "Extract the latest 200 tweets using api.user_timeline. We need to authorize our Twitter credentials"
   ]
  },
  {
   "cell_type": "code",
   "execution_count": null,
   "metadata": {},
   "outputs": [],
   "source": [
    "auth = tweepy.OAuthHandler(consumer_key, consumer_secret)\n",
    "auth.set_access_token(access_token, access_token_secret)\n",
    "api = tweepy.API(auth)"
   ]
  },
  {
   "cell_type": "code",
   "execution_count": null,
   "metadata": {},
   "outputs": [],
   "source": [
    "tweets = api.user_timeline(screen_name=userID, \n",
    "                           # 200 is the maximum allowed count\n",
    "                           count=200,\n",
    "                           include_rts = False,\n",
    "                           # Necessary to keep full text else only the first 140 words are extracted\n",
    "                           tweet_mode = 'extended')"
   ]
  },
  {
   "cell_type": "markdown",
   "metadata": {},
   "source": [
    "To extract as many as possible"
   ]
  },
  {
   "cell_type": "code",
   "execution_count": null,
   "metadata": {},
   "outputs": [],
   "source": [
    "all_tweets = []\n",
    "all_tweets.extend(tweets)\n",
    "oldest_id = tweets[-1].id\n",
    "\n",
    "while True:\n",
    "    tweets = api.user_timeline(screen_name=userID,count=200,include_rts = False,max_id = oldest_id - 1,tweet_mode = 'extended')\n",
    "    if len(tweets) == 0:\n",
    "        break\n",
    "    oldest_id = tweets[-1].id\n",
    "    all_tweets.extend(tweets)\n",
    "    print('N of tweets downloaded till now {}'.format(len(all_tweets)))"
   ]
  },
  {
   "cell_type": "markdown",
   "metadata": {},
   "source": [
    "Transform the tweepy tweets into an array."
   ]
  },
  {
   "cell_type": "code",
   "execution_count": null,
   "metadata": {},
   "outputs": [],
   "source": [
    "Thetweet = [[tweet.id_str, \n",
    "              tweet.created_at, \n",
    "              tweet.favorite_count, \n",
    "              tweet.retweet_count,\n",
    "              tweet.full_text.encode(\"utf-8\").decode(\"utf-8\")#compromise character encoding that can be as compact as ASCII.Uses 8 bit to encode a character \n",
    "              ,tweet.entities,] \n",
    "             for idx,tweet in enumerate(all_tweets) #adds a counter to an iterable ]"
   ]
  },
  {
   "cell_type": "markdown",
   "metadata": {},
   "source": [
    "tweet.entities gives us a list nested with list and dictionary.We have to look for media and then media type in order to count number of photos in a tweet"
   ]
  },
  {
   "cell_type": "code",
   "execution_count": null,
   "metadata": {},
   "outputs": [],
   "source": [
    "count_photo=[]\n",
    "count=0\n",
    "for i in range (0,len(Thetweet)):\n",
    "    if 'media' in Thetweet[i][5]:\n",
    "        if Thetweet[i][5][\"media\"][0][\"type\"] == 'photo':\n",
    "            count=count+1\n",
    "            count_photo.append(count)\n",
    "            count=0\n",
    "        else:\n",
    "            count_photo.append(\"None\")\n",
    "    else:\n",
    "        count_photo.append(\"None\")"
   ]
  },
  {
   "cell_type": "markdown",
   "metadata": {},
   "source": [
    "count_photo gives an array which contains information of number of photos in a tweet. last column of TheTweet is of no use.So,delete it and stack count_photo as last column"
   ]
  },
  {
   "cell_type": "code",
   "execution_count": null,
   "metadata": {},
   "outputs": [],
   "source": [
    "import numpy as np \n",
    "TheTweet=np.delete(TheTweet, -1, axis=1)\n",
    "TheTweet=np.column_stack((count_photo,size_photo))"
   ]
  },
  {
   "cell_type": "markdown",
   "metadata": {},
   "source": [
    "Storing it in jason file.We can save it in csv file by\"df.to_csv('TheTweet.csv')\""
   ]
  },
  {
   "cell_type": "code",
   "execution_count": null,
   "metadata": {},
   "outputs": [],
   "source": [
    "from pandas import DataFrame\n",
    "df = DataFrame(TheTweet,columns=[\"id\",\"created_at\",\"favorite_count\",\"retweet_count\", \"text\",\"Number of photo in a tweet\"])\n",
    "df.to_json('TheTweet.json',orient=\"table\")"
   ]
  }
 ],
 "metadata": {
  "kernelspec": {
   "display_name": "Python 3",
   "language": "python",
   "name": "python3"
  },
  "language_info": {
   "codemirror_mode": {
    "name": "ipython",
    "version": 3
   },
   "file_extension": ".py",
   "mimetype": "text/x-python",
   "name": "python",
   "nbconvert_exporter": "python",
   "pygments_lexer": "ipython3",
   "version": "3.6.8"
  }
 },
 "nbformat": 4,
 "nbformat_minor": 2
}
