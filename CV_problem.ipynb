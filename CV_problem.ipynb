{
 "cells": [
  {
   "cell_type": "markdown",
   "metadata": {},
   "source": [
    "Use panda to import data. Use pickle to extract .pkl file"
   ]
  },
  {
   "cell_type": "code",
   "execution_count": null,
   "metadata": {},
   "outputs": [],
   "source": [
    "import pickle\n",
    "import numpy as np\n",
    "import matplotlib.pyplot as plt\n",
    "\n",
    "with open('train_label.pkl', 'rb') as f:\n",
    "    Y_train = np.array(pickle.load(f)).reshape(-1,1)\n",
    "with open('train_image.pkl', 'rb') as f:\n",
    "    X_train= np.array(pickle.load(f))\n",
    "with open('test_image.pkl', 'rb') as f:\n",
    "    X_test= np.array(pickle.load(f))"
   ]
  },
  {
   "cell_type": "markdown",
   "metadata": {},
   "source": [
    "We standardize our scaling so we will use the same fitted method to transform/scale test data.We use StandardScaler"
   ]
  },
  {
   "cell_type": "code",
   "execution_count": null,
   "metadata": {},
   "outputs": [],
   "source": [
    "from sklearn.preprocessing import StandardScaler\n",
    "sc=StandardScaler()\n",
    "X_train=sc.fit_transform(X_train)\n",
    "X_test=sc.fit_transform(X_test)"
   ]
  },
  {
   "cell_type": "markdown",
   "metadata": {},
   "source": [
    "We will now build our ANN model.Since the output is of 7 dimension so we use to_categorial.We use relu function for weights in inner layer and softmax for outer layer.Optimizer is backpropogation to find the optimal weight.Since output dimension is 7 so we use categorial_crossentropy"
   ]
  },
  {
   "cell_type": "code",
   "execution_count": null,
   "metadata": {},
   "outputs": [],
   "source": [
    "from keras.models import Sequential\n",
    "from keras.layers import Dense\n",
    "from keras.utils import to_categorical\n",
    "Y_train=to_categorical(Y_train)\n",
    "#Initialise the ANN\n",
    "classifier=Sequential()\n",
    "\n",
    "#the input and the first hidden layer\n",
    "classifier.add(Dense(output_dim=128,init='uniform',activation='relu',input_dim=784))\n",
    "\n",
    "#Adding the two layer layers\n",
    "classifier.add(Dense(output_dim=64,init='uniform',activation='relu'))\n",
    "classifier.add(Dense(output_dim=32,init='uniform',activation='relu'))\n",
    "\n",
    "#Adding the output layer\n",
    "classifier.add(Dense(output_dim=7,init='uniform',activation='softmax'))\n",
    "\n",
    "#Compile the ANN\n",
    "classifier.compile(optimizer='adam',loss='categorical_crossentropy',metrics=['accuracy'])"
   ]
  },
  {
   "cell_type": "markdown",
   "metadata": {},
   "source": [
    "We use classifier.save_weights('weights.h5') to save the weights.So next time we dont need to give it training again .We can load the training by classifier.load_weights('weights.h5')"
   ]
  },
  {
   "cell_type": "code",
   "execution_count": null,
   "metadata": {},
   "outputs": [],
   "source": [
    "#Fitting training dataset\n",
    "stats=classifier.fit(X_train,Y_train,batch_size=10,nb_epoch=100)\n",
    "classifier.save_weights('C:\\\\Twitter\\\\weights.h5')\n",
    "\n",
    "#predicting the test set results\n",
    "Y_pred=classifier.predict(X_test)\n",
    "Y_label=np.argmax(Y_pred, axis=1)# to get the label or index which has max probablity\n",
    "\n",
    "plt.plot(stats.history['acc']) #plot if accuracy vs epoch\n",
    "\n",
    "plt.plot(stats.history['loss']) #plot if loss vs epoch"
   ]
  },
  {
   "cell_type": "markdown",
   "metadata": {},
   "source": [
    "Making output in desire format(.csv)"
   ]
  },
  {
   "cell_type": "code",
   "execution_count": null,
   "metadata": {},
   "outputs": [],
   "source": [
    "import csv\n",
    "with open('result.csv', 'w',newline='') as newFile:\n",
    "    newFileWriter = csv.writer(newFile)\n",
    "    newFileWriter.writerow(['image_index', 'class'])\n",
    "    for i in range (0,len(Y_label)):\n",
    "        newFileWriter.writerow([i,Y_label[i]])"
   ]
  }
 ],
 "metadata": {
  "kernelspec": {
   "display_name": "Python 3",
   "language": "python",
   "name": "python3"
  },
  "language_info": {
   "codemirror_mode": {
    "name": "ipython",
    "version": 3
   },
   "file_extension": ".py",
   "mimetype": "text/x-python",
   "name": "python",
   "nbconvert_exporter": "python",
   "pygments_lexer": "ipython3",
   "version": "3.6.8"
  }
 },
 "nbformat": 4,
 "nbformat_minor": 2
}
